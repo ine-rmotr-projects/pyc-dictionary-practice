{
 "cells": [
  {
   "cell_type": "markdown",
   "metadata": {},
   "source": [
    "# Add book to purchase\n",
    "\n",
    "The objective of this assignment is to write a function `add_book_to_purchase` that receives information of a book to add to a *purchase*, which is represented with a Dictionary. Each *purchase* dict has a key, `books`, that contains a list of books.\n",
    "\n",
    "For example:"
   ]
  },
  {
   "cell_type": "code",
   "execution_count": 1,
   "metadata": {},
   "outputs": [],
   "source": [
    "purchase = {\n",
    "    'id': 99,\n",
    "    'books': [],  # Empty list of books\n",
    "    'total': 0\n",
    "}"
   ]
  },
  {
   "cell_type": "markdown",
   "metadata": {},
   "source": [
    "And this is the info received for a book:"
   ]
  },
  {
   "cell_type": "code",
   "execution_count": 2,
   "metadata": {},
   "outputs": [],
   "source": [
    "book_title = 'The Odyssey'\n",
    "book_author = 'Homer'\n",
    "book_price = 7.99"
   ]
  },
  {
   "cell_type": "markdown",
   "metadata": {},
   "source": [
    "After your function runs, this should be the state of the `purchase` dictionary:"
   ]
  },
  {
   "cell_type": "code",
   "execution_count": 7,
   "metadata": {
    "scrolled": true
   },
   "outputs": [
    {
     "data": {
      "text/plain": [
       "{'id': 99,\n",
       " 'books': [{'title': 'The Odyssey', 'author': 'Homer', 'price': 7.99}],\n",
       " 'total': 0}"
      ]
     },
     "execution_count": 7,
     "metadata": {},
     "output_type": "execute_result"
    }
   ],
   "source": [
    "{\n",
    "    'id': 99,\n",
    "    'books': [{\n",
    "        'title': 'The Odyssey',\n",
    "        'author': 'Homer',\n",
    "        'price': 7.99\n",
    "    }],  # The list of books has one book\n",
    "    'total': 0\n",
    "}"
   ]
  },
  {
   "cell_type": "markdown",
   "metadata": {},
   "source": [
    "## Your assignment:\n",
    "\n",
    "Now it's time for you to complete the `add_book_to_purchase` function."
   ]
  },
  {
   "cell_type": "code",
   "execution_count": 18,
   "metadata": {},
   "outputs": [],
   "source": [
    "# Write your solution under this function\n",
    "def add_book_to_purchase(purchase_dict, book_title, book_author, book_price=0.99):\n",
    "    \"\"\"\n",
    "    purchase_dict['books'].append({\n",
    "        'title': book_title,\n",
    "        'author': book_author,\n",
    "        'price': book_price\n",
    "    })\n",
    "    \"\"\"\n",
    "    pass"
   ]
  },
  {
   "cell_type": "markdown",
   "metadata": {},
   "source": [
    "You can test if your function works by checking if the following dictionary looks as it should:"
   ]
  },
  {
   "cell_type": "code",
   "execution_count": null,
   "metadata": {},
   "outputs": [],
   "source": [
    "purchases = {\n",
    "    'id': 99,\n",
    "    'books': [],  # The list of books has one book\n",
    "    'total': 0\n",
    "}"
   ]
  },
  {
   "cell_type": "code",
   "execution_count": null,
   "metadata": {},
   "outputs": [],
   "source": [
    "add_book_to_purchase(purchases, \"A study in scarlet\", \"Arthur C. Doyle\", 3.99)"
   ]
  },
  {
   "cell_type": "code",
   "execution_count": null,
   "metadata": {},
   "outputs": [],
   "source": [
    "purchases"
   ]
  },
  {
   "cell_type": "markdown",
   "metadata": {},
   "source": [
    "If this fails you're doing something wrong:"
   ]
  },
  {
   "cell_type": "code",
   "execution_count": null,
   "metadata": {},
   "outputs": [],
   "source": [
    "assert purchases == {\n",
    "    'id': 99,\n",
    "    'books': [{\n",
    "        'title': 'A study in scarlet',\n",
    "        'author': 'Arthur C. Doyle',\n",
    "        'price': 3.99\n",
    "    }],\n",
    "    'total': 0\n",
    "}"
   ]
  },
  {
   "cell_type": "markdown",
   "metadata": {},
   "source": [
    "`purchases` should look something like:\n",
    "\n",
    "```python\n",
    "{\n",
    "    'id': 99,\n",
    "    'books': [{\n",
    "        'title': 'A study in scarlet',\n",
    "        'author': 'Arthur C. Doyle',\n",
    "        'price': 3.99\n",
    "    }],\n",
    "    'total': 0\n",
    "}\n",
    "```"
   ]
  }
 ],
 "metadata": {
  "kernelspec": {
   "display_name": "Python 3",
   "language": "python",
   "name": "python3"
  },
  "language_info": {
   "codemirror_mode": {
    "name": "ipython",
    "version": 3
   },
   "file_extension": ".py",
   "mimetype": "text/x-python",
   "name": "python",
   "nbconvert_exporter": "python",
   "pygments_lexer": "ipython3",
   "version": "3.7.4"
  }
 },
 "nbformat": 4,
 "nbformat_minor": 2
}
